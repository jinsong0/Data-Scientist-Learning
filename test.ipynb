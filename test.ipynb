{
 "cells": [
  {
   "cell_type": "code",
   "id": "initial_id",
   "metadata": {
    "collapsed": true,
    "ExecuteTime": {
     "end_time": "2025-08-23T02:11:41.383757Z",
     "start_time": "2025-08-23T02:11:41.038421Z"
    }
   },
   "source": [
    "import numpy as np\n",
    "\n",
    "# 创建一个一维数组\n",
    "arr = np.array([1, 2, 3, 4, 5])\n",
    "\n",
    "# 对数组中的每个元素进行平方操作\n",
    "squared = np.square(arr)\n",
    "\n",
    "# 计算数组的平均值\n",
    "mean_value = np.mean(arr)\n",
    "\n",
    "# 输出结果\n",
    "print(\"原始数组:\", arr)\n",
    "print(\"平方后的数组:\", squared)\n",
    "print(\"数组的平均值:\", mean_value)"
   ],
   "outputs": [
    {
     "name": "stdout",
     "output_type": "stream",
     "text": [
      "原始数组: [1 2 3 4 5]\n",
      "平方后的数组: [ 1  4  9 16 25]\n",
      "数组的平均值: 3.0\n"
     ]
    }
   ],
   "execution_count": 1
  },
  {
   "metadata": {},
   "cell_type": "code",
   "outputs": [],
   "execution_count": null,
   "source": "",
   "id": "39d4a301fcc1f481"
  }
 ],
 "metadata": {
  "kernelspec": {
   "display_name": "Python 3",
   "language": "python",
   "name": "python3"
  },
  "language_info": {
   "codemirror_mode": {
    "name": "ipython",
    "version": 2
   },
   "file_extension": ".py",
   "mimetype": "text/x-python",
   "name": "python",
   "nbconvert_exporter": "python",
   "pygments_lexer": "ipython2",
   "version": "2.7.6"
  }
 },
 "nbformat": 4,
 "nbformat_minor": 5
}
